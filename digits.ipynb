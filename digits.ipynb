{
 "cells": [
  {
   "cell_type": "code",
   "execution_count": 29,
   "metadata": {},
   "outputs": [
    {
     "name": "stdout",
     "output_type": "stream",
     "text": [
      "60000 785\n"
     ]
    }
   ],
   "source": [
    "import matplotlib.pyplot as plt\n",
    "import numpy as np\n",
    "import pandas as pd\n",
    "\n",
    "# load data\n",
    "train = pd.read_csv('/Users/suprita/supriML/digit_recognizer/mnist/mnist_train.csv')\n",
    "test = pd.read_csv('/Users/suprita/supriML/digit_recognizer/mnist/mnist_test.csv')\n",
    "m, n = train.shape\n",
    "print(m, n)"
   ]
  },
  {
   "cell_type": "code",
   "execution_count": 28,
   "metadata": {},
   "outputs": [
    {
     "data": {
      "text/plain": [
       "array([  6,   0,   0,   0,   0,   0,   0,   0,   0,   0,   0,   0,   0,\n",
       "         0,   0,   0,   0,   0,   0,   0,   0,   0,   0,   0,   0,   0,\n",
       "         0,   0,   0,   0,   0,   0,   0,   0,   0,   0,   0,   0,   0,\n",
       "         0,   0,   0,   0,   0,   0,   0,   0,   0,   0,   0,   0,   0,\n",
       "         0,   0,   0,   0,   0,   0,   0,   0,   0,   0,   0,   0,   0,\n",
       "         0,   0,   0,   0,   0,   0,   0,   0,   0,   8, 117, 254, 220,\n",
       "        89,   0,   0,   0,   0,   0,   0,   0,   0,   0,   0,   0,   0,\n",
       "         0,   0,   0,   0,   0,   0,   0,   0,   0,  13,  95, 212, 253,\n",
       "       253, 253, 157,   0,   0,   0,   0,   0,   0,   0,   0,   0,   0,\n",
       "         0,   0,   0,   0,   0,   0,   0,   0,   0,  16,  95, 209, 253,\n",
       "       253, 253, 245, 125,  18,   0,   0,   0,   0,   0,   0,   0,   0,\n",
       "         0,   0,   0,   0,   0,   0,   0,   0,   0,  40,  96, 206, 253,\n",
       "       254, 253, 253, 198,  64,   0,   0,   0,   0,   0,   0,   0,   0,\n",
       "         0,   0,   0,   0,   0,   0,   0,   0,   0,  44, 182, 240, 253,\n",
       "       253, 253, 254, 253, 198,  24,   0,   0,   0,   0,   0,   0,   0,\n",
       "         0,   0,   0,   0,   0,   0,   0,   0,   0,   0,   0,  15,  60,\n",
       "        60, 168, 253, 253, 254, 200,  23,   0,   0,   0,   0,   0,   0,\n",
       "         0,   0,   0,   0,   0,   0,   0,   0,   0,   0,   0,   0,   0,\n",
       "         0,   0,  70, 247, 253, 253, 245,  21,   0,   0,   0,   0,   0,\n",
       "         0,   0,   0,   0,   0,   0,   0,   0,   0,   0,   0,   0,   0,\n",
       "         0,   0,   0,  75, 207, 253, 253, 207,  92,   0,   0,   0,   0,\n",
       "         0,   0,   0,   0,   0,   0,   0,   0,   0,   0,   0,   0,   0,\n",
       "         0,   0,   0,   0,  79, 219, 253, 253, 253, 138,   0,   0,   0,\n",
       "         0,   0,   0,   0,   0,   0,   0,   0,   0,   0,   0,   0,   0,\n",
       "         0,   0,   0,   0,   0, 105, 250, 253, 253, 253,  34,   1,   0,\n",
       "         0,   0,   0,   0,   0,   0,   0,   0,   0,   0,   0,   0,   0,\n",
       "         0,   0,   0,   0,   0,   0,  95, 254, 254, 254, 254,  94,   0,\n",
       "         0,   0,   0,   0,   3,  13,  13,  13,   8,   0,   0,   0,   0,\n",
       "         0,   0,   0,   0,   0,   0,   0,   0, 107, 253, 253, 253, 204,\n",
       "        15,   0,   0,   0,   0,  21, 166, 253, 253, 253, 212,  25,   0,\n",
       "         0,   0,   0,   0,   0,   0,   0,   0,   0,  33, 217, 253, 253,\n",
       "       132,  64,   0,   0,  18,  43, 157, 171, 253, 253, 253, 253, 253,\n",
       "       160,   2,   0,   0,   0,   0,   0,   0,   0,   0,   3, 166, 253,\n",
       "       253, 242,  49,  17,  49, 158, 210, 254, 253, 253, 253, 253, 253,\n",
       "       253, 253, 253,  11,   0,   0,   0,   0,   0,   0,   0,   0,  10,\n",
       "       227, 253, 253, 207,  15, 172, 253, 253, 253, 254, 247, 201, 253,\n",
       "       210, 210, 253, 253, 175,   4,   0,   0,   0,   0,   0,   0,   0,\n",
       "         0,  10, 228, 253, 253, 224,  87, 242, 253, 253, 184,  60,  54,\n",
       "         9,  60,  35, 182, 253, 253,  52,   0,   0,   0,   0,   0,   0,\n",
       "         0,   0,   0,  13, 253, 253, 253, 253, 231, 253, 253, 253,  93,\n",
       "        86,  86,  86, 109, 217, 253, 253, 134,   5,   0,   0,   0,   0,\n",
       "         0,   0,   0,   0,   0,   2, 115, 253, 253, 253, 253, 253, 253,\n",
       "       253, 253, 254, 253, 253, 253, 253, 253, 134,   5,   0,   0,   0,\n",
       "         0,   0,   0,   0,   0,   0,   0,   0,   3, 166, 253, 253, 253,\n",
       "       253, 253, 253, 253, 254, 253, 253, 253, 175,  52,   5,   0,   0,\n",
       "         0,   0,   0,   0,   0,   0,   0,   0,   0,   0,   0,   7,  35,\n",
       "       132, 225, 253, 253, 253, 195, 132, 132, 132, 110,   4,   0,   0,\n",
       "         0,   0,   0,   0,   0,   0,   0,   0,   0,   0,   0,   0,   0,\n",
       "         0,   0,   0,   0,   0,   0,   0,   0,   0,   0,   0,   0,   0,\n",
       "         0,   0,   0,   0,   0,   0,   0,   0,   0,   0,   0,   0,   0,\n",
       "         0,   0,   0,   0,   0,   0,   0,   0,   0,   0,   0,   0,   0,\n",
       "         0,   0,   0,   0,   0,   0,   0,   0,   0,   0,   0,   0,   0,\n",
       "         0,   0,   0,   0,   0,   0,   0,   0,   0,   0,   0,   0,   0,\n",
       "         0,   0,   0,   0,   0,   0,   0,   0,   0,   0,   0,   0,   0,\n",
       "         0,   0,   0,   0,   0,   0,   0,   0,   0,   0,   0,   0,   0,\n",
       "         0,   0,   0,   0,   0,   0,   0,   0,   0,   0,   0,   0,   0,\n",
       "         0,   0,   0,   0,   0,   0,   0,   0,   0,   0,   0,   0,   0,\n",
       "         0,   0,   0,   0,   0,   0,   0,   0,   0,   0,   0,   0,   0,\n",
       "         0,   0,   0,   0,   0,   0,   0,   0,   0,   0,   0,   0,   0,\n",
       "         0,   0,   0,   0,   0,   0,   0,   0,   0,   0,   0,   0,   0,\n",
       "         0,   0,   0,   0,   0])"
      ]
     },
     "execution_count": 28,
     "metadata": {},
     "output_type": "execute_result"
    }
   ],
   "source": [
    "# create np array\n",
    "train = np.array(train)\n",
    "test = np.array(test)\n",
    "\n",
    "# transpose matrices\n",
    "train = train.T\n",
    "test = test.T\n",
    "\n",
    "# split data\n",
    "train_y = train[0]\n",
    "train_x = train[1:m] # 60000 images\n",
    "test_y = test[0]\n",
    "test_x = test[1:10000] # 10000 images\n",
    "\n",
    "test_x[len(test_x)-1]"
   ]
  },
  {
   "cell_type": "code",
   "execution_count": 33,
   "metadata": {},
   "outputs": [],
   "source": [
    "# activation fns\n",
    "def relu(x):\n",
    "    return np.maximum(0, x)\n",
    "\n",
    "def softmax(x):\n",
    "    exp_x = np.exp(x - np.max(x, axis=0)) \n",
    "    return exp_x / np.sum(exp_x, axis=0, keepdims=True)\n",
    "\n",
    "def anti_relu(x): \n",
    "    return (x > 0).astype(float)\n",
    "\n",
    "def onehot(y):\n",
    "    onehot = np.zeros((y.size, y.max() + 1))\n",
    "    onehot[np.arange(y.size), y] = 1  \n",
    "    return onehot.T\n",
    "\n",
    "\n",
    "\n",
    "def init_params():\n",
    "    w1 = np.random.rand(10, 784)\n",
    "    b1 = np.random.rand(10, 1)\n",
    "    w2 = np.random.rand(10, 10)\n",
    "    b2 = np.random.rand(10, 1)\n",
    "    return w1, b1, w2, b2\n",
    "\n",
    "# forward prop\n",
    "def forward(w1, b1, w2, b2, x):\n",
    "    # hidden layers\n",
    "    z1 = w1.dot(x) + b1\n",
    "    a1 = relu(z1)\n",
    "    z2 = w2.dot(a1) + b2\n",
    "    a2 = softmax(z2)\n",
    "    return z1, a1, z2, a2\n",
    "\n",
    "\n",
    "# backprop\n",
    "def backprop(z1, a1, z2, a2, w1, w2, x, y):\n",
    "    m = y.size\n",
    "    y = onehot(y)\n",
    "    # calc losses\n",
    "    dz2 = a2 - y\n",
    "    dw2 = (1/m) * dz2.dot(a1.T)\n",
    "    db2 = (1/m) * np.sum(dz2, axis=1, keepdims=True)\n",
    "    dz1 = w2.T.dot(dz2) * anti_relu(z1)\n",
    "    dw1 = (1/m) * dz1.dot(x.T)\n",
    "    db1 = (1/m) * np.sum(dz1, axis=1, keepdims=True)\n",
    "    return dw2, db2, dw1, db1\n",
    "\n",
    "\n",
    "def update_params(w1, b1, w2, b2, dw1, db1, dw2, db2, lr):\n",
    "    w1 -= lr * dw1\n",
    "    b1 -= lr * db1\n",
    "    w2 -= lr * dw2\n",
    "    b2 -= lr * db2\n",
    "    return w1, b1, w2, b2\n",
    "\n",
    "\n",
    "def get_predictions(a2):\n",
    "    return np.argmax(a2, axis=0)\n",
    "\n",
    "\n",
    "def get_accuracy(predictions, y):\n",
    "    return np.sum(predictions == y) / y.size\n",
    "\n",
    "\n",
    "def gradient_descent(x, y, lr, epochs):\n",
    "    w1, b1, w2, b2 = init_params()\n",
    "    for i in range(epochs):\n",
    "        z1, a1, z2, a2 = forward(w1, b1, w2, b2, x)\n",
    "        dw2, db2, dw1, db1 = backprop(z1, a1, z2, a2, w1, w2, x, y)\n",
    "        w1, b1, w2, b2 = update_params(w1, b1, w2, b2, dw1, db1, dw2, db2, lr)\n",
    "        if i % 100 == 0: \n",
    "            predictions = get_predictions(a2)\n",
    "            accuracy = get_accuracy(predictions, y)\n",
    "            print(f\"Epoch {i}: Accuracy {accuracy}\")\n",
    "    return w1, b1, w2, b2\n"
   ]
  },
  {
   "cell_type": "code",
   "execution_count": 34,
   "metadata": {},
   "outputs": [
    {
     "ename": "ValueError",
     "evalue": "shapes (10,784) and (59999,785) not aligned: 784 (dim 1) != 59999 (dim 0)",
     "output_type": "error",
     "traceback": [
      "\u001b[0;31m---------------------------------------------------------------------------\u001b[0m",
      "\u001b[0;31mValueError\u001b[0m                                Traceback (most recent call last)",
      "Cell \u001b[0;32mIn[34], line 1\u001b[0m\n\u001b[0;32m----> 1\u001b[0m w1, b1, w2, b2 \u001b[38;5;241m=\u001b[39m \u001b[43mgradient_descent\u001b[49m\u001b[43m(\u001b[49m\u001b[43mtrain_x\u001b[49m\u001b[43m,\u001b[49m\u001b[43m \u001b[49m\u001b[43mtrain_y\u001b[49m\u001b[43m,\u001b[49m\u001b[43m \u001b[49m\u001b[38;5;241;43m0.1\u001b[39;49m\u001b[43m,\u001b[49m\u001b[43m \u001b[49m\u001b[38;5;241;43m500\u001b[39;49m\u001b[43m)\u001b[49m\n",
      "Cell \u001b[0;32mIn[33], line 69\u001b[0m, in \u001b[0;36mgradient_descent\u001b[0;34m(x, y, lr, epochs)\u001b[0m\n\u001b[1;32m     67\u001b[0m w1, b1, w2, b2 \u001b[38;5;241m=\u001b[39m init_params()\n\u001b[1;32m     68\u001b[0m \u001b[38;5;28;01mfor\u001b[39;00m i \u001b[38;5;129;01min\u001b[39;00m \u001b[38;5;28mrange\u001b[39m(epochs):\n\u001b[0;32m---> 69\u001b[0m     z1, a1, z2, a2 \u001b[38;5;241m=\u001b[39m \u001b[43mforward\u001b[49m\u001b[43m(\u001b[49m\u001b[43mw1\u001b[49m\u001b[43m,\u001b[49m\u001b[43m \u001b[49m\u001b[43mb1\u001b[49m\u001b[43m,\u001b[49m\u001b[43m \u001b[49m\u001b[43mw2\u001b[49m\u001b[43m,\u001b[49m\u001b[43m \u001b[49m\u001b[43mb2\u001b[49m\u001b[43m,\u001b[49m\u001b[43m \u001b[49m\u001b[43mx\u001b[49m\u001b[43m)\u001b[49m\n\u001b[1;32m     70\u001b[0m     dw2, db2, dw1, db1 \u001b[38;5;241m=\u001b[39m backprop(z1, a1, z2, a2, w1, w2, x, y)\n\u001b[1;32m     71\u001b[0m     w1, b1, w2, b2 \u001b[38;5;241m=\u001b[39m update_params(w1, b1, w2, b2, dw1, db1, dw2, db2, lr)\n",
      "Cell \u001b[0;32mIn[33], line 29\u001b[0m, in \u001b[0;36mforward\u001b[0;34m(w1, b1, w2, b2, x)\u001b[0m\n\u001b[1;32m     27\u001b[0m \u001b[38;5;28;01mdef\u001b[39;00m \u001b[38;5;21mforward\u001b[39m(w1, b1, w2, b2, x):\n\u001b[1;32m     28\u001b[0m     \u001b[38;5;66;03m# hidden layers\u001b[39;00m\n\u001b[0;32m---> 29\u001b[0m     z1 \u001b[38;5;241m=\u001b[39m \u001b[43mw1\u001b[49m\u001b[38;5;241;43m.\u001b[39;49m\u001b[43mdot\u001b[49m\u001b[43m(\u001b[49m\u001b[43mx\u001b[49m\u001b[43m)\u001b[49m \u001b[38;5;241m+\u001b[39m b1\n\u001b[1;32m     30\u001b[0m     a1 \u001b[38;5;241m=\u001b[39m relu(z1)\n\u001b[1;32m     31\u001b[0m     z2 \u001b[38;5;241m=\u001b[39m w2\u001b[38;5;241m.\u001b[39mdot(a1) \u001b[38;5;241m+\u001b[39m b2\n",
      "\u001b[0;31mValueError\u001b[0m: shapes (10,784) and (59999,785) not aligned: 784 (dim 1) != 59999 (dim 0)"
     ]
    }
   ],
   "source": [
    "\n",
    "w1, b1, w2, b2 = gradient_descent(train_x, train_y, 0.1, 500)"
   ]
  },
  {
   "cell_type": "markdown",
   "metadata": {},
   "source": []
  },
  {
   "cell_type": "code",
   "execution_count": null,
   "metadata": {},
   "outputs": [],
   "source": [
    "train"
   ]
  }
 ],
 "metadata": {
  "kernelspec": {
   "display_name": "Python 3",
   "language": "python",
   "name": "python3"
  },
  "language_info": {
   "codemirror_mode": {
    "name": "ipython",
    "version": 3
   },
   "file_extension": ".py",
   "mimetype": "text/x-python",
   "name": "python",
   "nbconvert_exporter": "python",
   "pygments_lexer": "ipython3",
   "version": "3.12.3"
  }
 },
 "nbformat": 4,
 "nbformat_minor": 2
}
